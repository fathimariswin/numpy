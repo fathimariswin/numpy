{
 "cells": [
  {
   "cell_type": "code",
   "execution_count": 1,
   "id": "198d64ae-67e8-4fdf-8b82-3750fe3a9f74",
   "metadata": {},
   "outputs": [
    {
     "name": "stdout",
     "output_type": "stream",
     "text": [
      "[23, 45, 37, 32]\n"
     ]
    }
   ],
   "source": [
    "\n",
    "array4=[23,45,37,32]\n",
    "print (array4)"
   ]
  },
  {
   "cell_type": "code",
   "execution_count": 2,
   "id": "b6d356ee-5d7a-454a-9a29-d3ad5bb1b1cf",
   "metadata": {},
   "outputs": [
    {
     "name": "stdout",
     "output_type": "stream",
     "text": [
      "Requirement already satisfied: numpy in c:\\users\\student\\anaconda3\\lib\\site-packages (1.26.4)\n",
      "Note: you may need to restart the kernel to use updated packages.\n"
     ]
    }
   ],
   "source": [
    "pip install numpy"
   ]
  },
  {
   "cell_type": "code",
   "execution_count": 3,
   "id": "bf1cd837-2de4-4f82-bbd7-c86d9d1328e0",
   "metadata": {},
   "outputs": [
    {
     "name": "stdout",
     "output_type": "stream",
     "text": [
      "[1 2 3 4 5]\n"
     ]
    }
   ],
   "source": [
    "import numpy as np\n",
    "arr3=np.array([1,2,3,4,5])\n",
    "print(arr3)"
   ]
  },
  {
   "cell_type": "code",
   "execution_count": 18,
   "id": "935bd853-8b2c-4822-8585-b61d1f5dbd05",
   "metadata": {},
   "outputs": [
    {
     "name": "stdout",
     "output_type": "stream",
     "text": [
      "<class 'numpy.ndarray'>\n"
     ]
    }
   ],
   "source": [
    "print(type(arr3))"
   ]
  },
  {
   "cell_type": "code",
   "execution_count": null,
   "id": "e4b971ee-d16c-40d2-960f-903c4880ef4d",
   "metadata": {},
   "outputs": [],
   "source": [
    "import numpy as np\n",
    "arr1=np.array([[1,2,3],[4,5,6]])\n",
    "print(arr1)"
   ]
  },
  {
   "cell_type": "code",
   "execution_count": null,
   "id": "8055bf0c-b94d-488e-ac74-56dea6ad3bf2",
   "metadata": {},
   "outputs": [],
   "source": [
    "import numpy as np\n",
    "arr2=np.array([[[1,2,3],[4,5,6]],[[1,2,3],[4,5,6]]])\n",
    "print(arr2)"
   ]
  },
  {
   "cell_type": "code",
   "execution_count": null,
   "id": "3b7f1a1f-d569-4861-808e-4aa537319859",
   "metadata": {},
   "outputs": [],
   "source": [
    "import numpy as np\n",
    "arr2=np.array([[[1,2,3],[4,5,6]],[[1,2,3],[4,5,6]]])\n",
    "print(arr2)"
   ]
  },
  {
   "cell_type": "code",
   "execution_count": null,
   "id": "47540241-f7ba-4b8d-8d60-b682c5522e9c",
   "metadata": {},
   "outputs": [],
   "source": [
    "print(arr1.ndim)"
   ]
  },
  {
   "cell_type": "code",
   "execution_count": null,
   "id": "67c9df88-bac3-4872-8c21-a06e46fc215b",
   "metadata": {},
   "outputs": [],
   "source": [
    "print(arr2.ndim)"
   ]
  },
  {
   "cell_type": "code",
   "execution_count": null,
   "id": "67b28057-0065-4948-aea0-66ee5565c369",
   "metadata": {},
   "outputs": [],
   "source": [
    "print(arr3\n",
    "      .ndim)"
   ]
  },
  {
   "cell_type": "code",
   "execution_count": null,
   "id": "53771c11-076d-441c-a0be-2554afef2457",
   "metadata": {},
   "outputs": [],
   "source": [
    "print(arr2[0,1,2])"
   ]
  },
  {
   "cell_type": "code",
   "execution_count": null,
   "id": "5bcf002d-c715-4781-85b2-55fefa5a4939",
   "metadata": {},
   "outputs": [],
   "source": [
    "print(arr2[1,1,1])"
   ]
  },
  {
   "cell_type": "raw",
   "id": "44c42817-064d-41f1-9a57-726332d2287a",
   "metadata": {},
   "source": [
    "print(arr3[1:5])"
   ]
  },
  {
   "cell_type": "code",
   "execution_count": 20,
   "id": "e9f41583-5603-4f90-979e-1bffb9da4dd9",
   "metadata": {},
   "outputs": [
    {
     "name": "stdout",
     "output_type": "stream",
     "text": [
      "[2 3 4]\n"
     ]
    }
   ],
   "source": [
    "import numpy as np\n",
    "arr3=np.array([1,2,3,4,5])\n",
    "print(arr3[1:4])"
   ]
  },
  {
   "cell_type": "code",
   "execution_count": 22,
   "id": "8cb24fba-5ce9-4591-87b5-5f76728b4e2c",
   "metadata": {},
   "outputs": [
    {
     "name": "stdout",
     "output_type": "stream",
     "text": [
      "[2 3 4 5]\n"
     ]
    }
   ],
   "source": [
    "import numpy as np\n",
    "arr3=np.array([1,2,3,4,5])\n",
    "print(arr3[1:5])"
   ]
  },
  {
   "cell_type": "code",
   "execution_count": 24,
   "id": "011d635c-7c4e-4da3-a21e-cf6fe03eb245",
   "metadata": {},
   "outputs": [
    {
     "name": "stdout",
     "output_type": "stream",
     "text": [
      "[[ 1  2  3]\n",
      " [ 4  5  6]\n",
      " [ 7  8  9]\n",
      " [10 11 12]]\n"
     ]
    }
   ],
   "source": [
    "import numpy as np\n",
    "arr=np.array([1,2,3,4,5,6,7,8,9,10,11,12])\n",
    "newarr=arr.reshape(4,3)\n",
    "print(newarr)"
   ]
  },
  {
   "cell_type": "code",
   "execution_count": 26,
   "id": "5b713a08-349b-4088-93c3-6839f2e4c519",
   "metadata": {},
   "outputs": [
    {
     "name": "stdout",
     "output_type": "stream",
     "text": [
      "<IntegerArray>\n",
      "[\n",
      "[2, 3, 4, 6, 4, 8, 9, 0, 3],\n",
      "[1, 22, 55, 88, 4, 0, 5, 11, 18]\n",
      "]\n",
      "Shape: (2, 9), dtype: Int64\n"
     ]
    }
   ],
   "source": [
    "import pandas as np\n",
    "arr=np.array([2,3,4,6,4,8,9,0,3,1,22,55,88,4,0,5,11,18])\n",
    "newarr=arr.reshape(2,9)\n",
    "print(newarr)"
   ]
  },
  {
   "cell_type": "code",
   "execution_count": 28,
   "id": "3c798e43-af78-4820-b525-3730ca00a5bc",
   "metadata": {},
   "outputs": [
    {
     "name": "stdout",
     "output_type": "stream",
     "text": [
      "[[[1 2 3]\n",
      "  [4 5 6]]\n",
      "\n",
      " [[1 2 3]\n",
      "  [4 5 6]]]\n"
     ]
    }
   ],
   "source": [
    "import numpy as np\n",
    "arr2=np.array([[[1,2,3],[4,5,6]],[[1,2,3],[4,5,6]]])\n",
    "print(arr2)"
   ]
  },
  {
   "cell_type": "code",
   "execution_count": null,
   "id": "4db70a6e-fe63-4773-a31f-9483120c4e87",
   "metadata": {},
   "outputs": [],
   "source": []
  },
  {
   "cell_type": "code",
   "execution_count": 34,
   "id": "90b5b3d7-f4da-4a99-a60b-b4bcd7b51baf",
   "metadata": {},
   "outputs": [
    {
     "data": {
      "text/plain": [
       "<IntegerArray>\n",
       "[1, 2, 3, 4, 5, 6, 7, 8, 9, 10, 11, 12]\n",
       "Length: 12, dtype: Int64"
      ]
     },
     "execution_count": 34,
     "metadata": {},
     "output_type": "execute_result"
    }
   ],
   "source": [
    "import pandas as np\n",
    "a=np.array([1,2,3,4,5,6,7,8,9,10,11,12])\n",
    "a"
   ]
  },
  {
   "cell_type": "code",
   "execution_count": null,
   "id": "dc204c7f-b8cf-4784-9636-53df1645e14f",
   "metadata": {},
   "outputs": [],
   "source": [
    "new=a.reshape(2,3,2)\n",
    "print(new)"
   ]
  }
 ],
 "metadata": {
  "kernelspec": {
   "display_name": "Python 3 (ipykernel)",
   "language": "python",
   "name": "python3"
  },
  "language_info": {
   "codemirror_mode": {
    "name": "ipython",
    "version": 3
   },
   "file_extension": ".py",
   "mimetype": "text/x-python",
   "name": "python",
   "nbconvert_exporter": "python",
   "pygments_lexer": "ipython3",
   "version": "3.12.4"
  }
 },
 "nbformat": 4,
 "nbformat_minor": 5
}
